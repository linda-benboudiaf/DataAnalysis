{
 "cells": [
  {
   "cell_type": "code",
   "execution_count": 4,
   "metadata": {},
   "outputs": [
    {
     "name": "stdout",
     "output_type": "stream",
     "text": [
      "Vector [10 20 30]\n",
      "[[ 5 10 15]\n",
      " [20 25 30]\n",
      " [35 40 45]]\n",
      "(3,)\n",
      "(3, 3)\n"
     ]
    }
   ],
   "source": [
    "import numpy as np\n",
    "vector = np.array([10,20,30])\n",
    "matrix = np.array([[5,10,15],[20,25,30],[35,40,45]])\n",
    "print('Vector', vector)\n",
    "print(matrix)\n",
    "print(vector.shape)\n",
    "print(matrix.shape)"
   ]
  },
  {
   "cell_type": "code",
   "execution_count": 101,
   "metadata": {},
   "outputs": [
    {
     "name": "stdout",
     "output_type": "stream",
     "text": [
      "[['1986' 'Western Pacific' 'Viet Nam' 'Wine' '0']\n",
      " ['1986' 'Americas' 'Uruguay' 'Other' '0.5']\n",
      " ['1985' 'Africa' \"Cte d'Ivoire\" 'Wine' '1.62']\n",
      " ...\n",
      " ['1986' 'Europe' 'Switzerland' 'Spirits' '2.54']\n",
      " ['1987' 'Western Pacific' 'Papua New Guinea' 'Other' '0']\n",
      " ['1986' 'Africa' 'Swaziland' 'Other' '5.15']]\n"
     ]
    }
   ],
   "source": [
    "world_alcohol = np.genfromtxt('world_alcohol.csv', delimiter = ',', dtype= 'U75', skip_header=1)\n",
    "#print(type(world_alcohol))\n",
    "print(world_alcohol)\n",
    "#print(world_alcohol.dtype)\n",
    "ivory_1985 = world_alcohol[2, 4]\n",
    "second_country = world_alcohol[1,2]\n",
    "#print(ivory_1985)\n",
    "#print(second_country)\n",
    "countries = world_alcohol[:,2]\n",
    "#print(countries)\n",
    "alcohol_comsuption = world_alcohol[:,4]  \n",
    "#print(alcohol_comsuption)\n",
    "first_two_columns = world_alcohol[:, 0:2]\n",
    "first_ten_years = world_alcohol[0:10, 0]\n",
    "first_ten_rows = world_alcohol[0:10, :]\n",
    "first_twenty_regions = world_alcohol[0:20, 1:3]\n",
    "#print(first_two_columns)\n",
    "#print('####')\n",
    "#print(first_ten_years)\n",
    "#print('####')\n",
    "#print(first_ten_rows)\n",
    "#print('####')\n",
    "#print(first_twenty_regions)"
   ]
  },
  {
   "cell_type": "code",
   "execution_count": 82,
   "metadata": {},
   "outputs": [
    {
     "name": "stdout",
     "output_type": "stream",
     "text": [
      "[['1984' 'Africa' 'Algeria' 'Spirits' '0.01']\n",
      " ['1984' 'Africa' 'Algeria' 'Other' '0']\n",
      " ['1984' 'Africa' 'Algeria' 'Wine' '0.12']\n",
      " ['1984' 'Africa' 'Algeria' 'Beer' '0.2']]\n"
     ]
    }
   ],
   "source": [
    "countries_canada = (world_alcohol[:,2] == 'Canada')\n",
    "#years_is_1984 = (world_alcohol[:,0] == '1984')\n",
    "#print(countries_canada)\n",
    "#print(years_1984)\n",
    "country_algeria = world_alcohol[world_alcohol[:,2] == 'Algeria']\n",
    "#print(country_algeria)\n",
    "years_1984 = country_algeria[country_algeria[:,0] == '1984']\n",
    "#print(years_1984)\n",
    "is_algeria_1984 = (world_alcohol[:,0] == '1984') & (world_alcohol[:,2] == 'Algeria')\n",
    "rows_with_algeria_1984 = world_alcohol[is_algeria_1984]\n",
    "print(rows_with_algeria_1984)"
   ]
  },
  {
   "cell_type": "code",
   "execution_count": 120,
   "metadata": {},
   "outputs": [
    {
     "name": "stdout",
     "output_type": "stream",
     "text": [
      "Total Alcohol : 3908.96\n",
      "Average comsuption : 1.2001719373656738\n"
     ]
    }
   ],
   "source": [
    "world_alcohol_2 = world_alcohol.copy()\n",
    "\n",
    "world_alcohol_2[:,0][world_alcohol_2[:,0] == '1986'] = '2018'\n",
    "world_alcohol_2[:,3][world_alcohol_2[:,3] == 'Wine'] = 'Beer'\n",
    "world_alcohol_2[:,4][world_alcohol_2[:,4] == ''] = '0'\n",
    "\n",
    "alcohol_comsuption = world_alcohol_2[:,4].astype(float)\n",
    "print('Total Alcohol :',alcohol_comsuption.sum())\n",
    "print('Average comsuption :',alcohol_comsuption.mean())\n",
    "#print(world_alcohol_2)\n",
    "#print(alcohol_comsuption.dtype)"
   ]
  },
  {
   "cell_type": "code",
   "execution_count": 134,
   "metadata": {},
   "outputs": [
    {
     "name": "stdout",
     "output_type": "stream",
     "text": [
      "9.59\n",
      "[['1984' 'Americas' 'Canada' 'Spirits' '3.35']\n",
      " ['1984' 'Americas' 'Canada' 'Beer' '5']\n",
      " ['1984' 'Americas' 'Canada' 'Wine' '1.24']\n",
      " ['1984' 'Americas' 'Canada' 'Other' '0']]\n"
     ]
    }
   ],
   "source": [
    "selector = (world_alcohol[:, 0] == '1984') & (world_alcohol[:,2] == 'Canada')\n",
    "canada_1984 = world_alcohol[selector]\n",
    "canada_1984[:,4][canada_1984[:,4] == ''] = '0'\n",
    "canada_drinking = canada_1984[:,4].astype(float).sum()\n",
    "print(canada_drinking)\n",
    "print(canada_1984)"
   ]
  },
  {
   "cell_type": "code",
   "execution_count": 182,
   "metadata": {},
   "outputs": [
    {
     "name": "stdout",
     "output_type": "stream",
     "text": [
      "16.29\n",
      "Hungary\n"
     ]
    }
   ],
   "source": [
    "totals = {}\n",
    "countries =  world_alcohol[:,2] \n",
    "years = world_alcohol[world_alcohol[:,0] == '1989']\n",
    "for country in countries:\n",
    "    country_consumption = years[years[:,2]==country]\n",
    "    country_consumption[:,4][country_consumption[:,4] == ''] = '0'\n",
    "    alcohol_comsuption = country_consumption[:,4].astype(float)\n",
    "    totals[country] = alcohol_comsuption.sum()\n",
    "\n",
    "highest_values = 0\n",
    "for country in totals:\n",
    "    consumption = totals[country]\n",
    "    if highest_values < consumption : \n",
    "        highest_values = consumption\n",
    "        highest_key = country\n",
    "    else:\n",
    "        pass\n",
    "        \n",
    "print(highest_values)\n",
    "print(highest_key)"
   ]
  }
 ],
 "metadata": {
  "kernelspec": {
   "display_name": "Python 3",
   "language": "python",
   "name": "python3"
  },
  "language_info": {
   "codemirror_mode": {
    "name": "ipython",
    "version": 3
   },
   "file_extension": ".py",
   "mimetype": "text/x-python",
   "name": "python",
   "nbconvert_exporter": "python",
   "pygments_lexer": "ipython3",
   "version": "3.5.2"
  }
 },
 "nbformat": 4,
 "nbformat_minor": 2
}
