{
 "metadata": {
  "language_info": {
   "codemirror_mode": {
    "name": "ipython",
    "version": 3
   },
   "file_extension": ".py",
   "mimetype": "text/x-python",
   "name": "python",
   "nbconvert_exporter": "python",
   "pygments_lexer": "ipython3",
   "version": "3.5.2-final"
  },
  "orig_nbformat": 2,
  "kernelspec": {
   "name": "python35264bit77cd6c1a771c4695ad3b371285b6aa6a",
   "display_name": "Python 3.5.2 64-bit"
  }
 },
 "nbformat": 4,
 "nbformat_minor": 2,
 "cells": [
  {
   "cell_type": "code",
   "execution_count": 160,
   "metadata": {},
   "outputs": [
    {
     "output_type": "stream",
     "name": "stdout",
     "text": [
      "<class 'pandas.core.frame.DataFrame'>\nRangeIndex: 1058 entries, 0 to 1057\nData columns (total 65 columns):\nRespondentID                                                                                                                                    1058 non-null int64\nDo you celebrate Thanksgiving?                                                                                                                  1058 non-null object\nWhat is typically the main dish at your Thanksgiving dinner?                                                                                    974 non-null object\nWhat is typically the main dish at your Thanksgiving dinner? - Other (please specify)                                                           35 non-null object\nHow is the main dish typically cooked?                                                                                                          974 non-null object\nHow is the main dish typically cooked? - Other (please specify)                                                                                 51 non-null object\nWhat kind of stuffing/dressing do you typically have?                                                                                           974 non-null object\nWhat kind of stuffing/dressing do you typically have? - Other (please specify)                                                                  36 non-null object\nWhat type of cranberry saucedo you typically have?                                                                                              974 non-null object\nWhat type of cranberry saucedo you typically have? - Other (please specify)                                                                     25 non-null object\nDo you typically have gravy?                                                                                                                    974 non-null object\nWhich of these side dishes aretypically served at your Thanksgiving dinner? Please select all that apply. - Brussel sprouts                     155 non-null object\nWhich of these side dishes aretypically served at your Thanksgiving dinner? Please select all that apply. - Carrots                             242 non-null object\nWhich of these side dishes aretypically served at your Thanksgiving dinner? Please select all that apply. - Cauliflower                         88 non-null object\nWhich of these side dishes aretypically served at your Thanksgiving dinner? Please select all that apply. - Corn                                464 non-null object\nWhich of these side dishes aretypically served at your Thanksgiving dinner? Please select all that apply. - Cornbread                           235 non-null object\nWhich of these side dishes aretypically served at your Thanksgiving dinner? Please select all that apply. - Fruit salad                         215 non-null object\nWhich of these side dishes aretypically served at your Thanksgiving dinner? Please select all that apply. - Green beans/green bean casserole    686 non-null object\nWhich of these side dishes aretypically served at your Thanksgiving dinner? Please select all that apply. - Macaroni and cheese                 206 non-null object\nWhich of these side dishes aretypically served at your Thanksgiving dinner? Please select all that apply. - Mashed potatoes                     817 non-null object\nWhich of these side dishes aretypically served at your Thanksgiving dinner? Please select all that apply. - Rolls/biscuits                      766 non-null object\nWhich of these side dishes aretypically served at your Thanksgiving dinner? Please select all that apply. - Squash                              171 non-null object\nWhich of these side dishes aretypically served at your Thanksgiving dinner? Please select all that apply. - Vegetable salad                     209 non-null object\nWhich of these side dishes aretypically served at your Thanksgiving dinner? Please select all that apply. - Yams/sweet potato casserole         631 non-null object\nWhich of these side dishes aretypically served at your Thanksgiving dinner? Please select all that apply. - Other (please specify)              111 non-null object\nWhich of these side dishes aretypically served at your Thanksgiving dinner? Please select all that apply. - Other (please specify).1            111 non-null object\nWhich type of pie is typically served at your Thanksgiving dinner? Please select all that apply. - Apple                                        514 non-null object\nWhich type of pie is typically served at your Thanksgiving dinner? Please select all that apply. - Buttermilk                                   35 non-null object\nWhich type of pie is typically served at your Thanksgiving dinner? Please select all that apply. - Cherry                                       113 non-null object\nWhich type of pie is typically served at your Thanksgiving dinner? Please select all that apply. - Chocolate                                    133 non-null object\nWhich type of pie is typically served at your Thanksgiving dinner? Please select all that apply. - Coconut cream                                36 non-null object\nWhich type of pie is typically served at your Thanksgiving dinner? Please select all that apply. - Key lime                                     39 non-null object\nWhich type of pie is typically served at your Thanksgiving dinner? Please select all that apply. - Peach                                        34 non-null object\nWhich type of pie is typically served at your Thanksgiving dinner? Please select all that apply. - Pecan                                        342 non-null object\nWhich type of pie is typically served at your Thanksgiving dinner? Please select all that apply. - Pumpkin                                      729 non-null object\nWhich type of pie is typically served at your Thanksgiving dinner? Please select all that apply. - Sweet Potato                                 152 non-null object\nWhich type of pie is typically served at your Thanksgiving dinner? Please select all that apply. - None                                         40 non-null object\nWhich type of pie is typically served at your Thanksgiving dinner? Please select all that apply. - Other (please specify)                       71 non-null object\nWhich type of pie is typically served at your Thanksgiving dinner? Please select all that apply. - Other (please specify).1                     71 non-null object\nWhich of these desserts do you typically have at Thanksgiving dinner? Please select all that apply.   - Apple cobbler                           110 non-null object\nWhich of these desserts do you typically have at Thanksgiving dinner? Please select all that apply.   - Blondies                                16 non-null object\nWhich of these desserts do you typically have at Thanksgiving dinner? Please select all that apply.   - Brownies                                128 non-null object\nWhich of these desserts do you typically have at Thanksgiving dinner? Please select all that apply.   - Carrot cake                             72 non-null object\nWhich of these desserts do you typically have at Thanksgiving dinner? Please select all that apply.   - Cheesecake                              191 non-null object\nWhich of these desserts do you typically have at Thanksgiving dinner? Please select all that apply.   - Cookies                                 204 non-null object\nWhich of these desserts do you typically have at Thanksgiving dinner? Please select all that apply.   - Fudge                                   43 non-null object\nWhich of these desserts do you typically have at Thanksgiving dinner? Please select all that apply.   - Ice cream                               266 non-null object\nWhich of these desserts do you typically have at Thanksgiving dinner? Please select all that apply.   - Peach cobbler                           103 non-null object\nWhich of these desserts do you typically have at Thanksgiving dinner? Please select all that apply.   - None                                    295 non-null object\nWhich of these desserts do you typically have at Thanksgiving dinner? Please select all that apply.   - Other (please specify)                  134 non-null object\nWhich of these desserts do you typically have at Thanksgiving dinner? Please select all that apply.   - Other (please specify).1                134 non-null object\nDo you typically pray before or after the Thanksgiving meal?                                                                                    959 non-null object\nHow far will you travel for Thanksgiving?                                                                                                       951 non-null object\nWill you watch any of the following programs on Thanksgiving? Please select all that apply. - Macy's Parade                                     502 non-null object\nWhat's the age cutoff at your \"kids' table\" at Thanksgiving?                                                                                    951 non-null object\nHave you ever tried to meet up with hometown friends on Thanksgiving night?                                                                     951 non-null object\nHave you ever attended a \"Friendsgiving?\"                                                                                                       951 non-null object\nWill you shop any Black Friday sales on Thanksgiving Day?                                                                                       951 non-null object\nDo you work in retail?                                                                                                                          951 non-null object\nWill you employer make you work on Black Friday?                                                                                                70 non-null object\nHow would you describe where you live?                                                                                                          948 non-null object\nAge                                                                                                                                             1025 non-null object\nWhat is your gender?                                                                                                                            1025 non-null object\nHow much total combined money did all members of your HOUSEHOLD earn last year?                                                                 1025 non-null object\nUS Region                                                                                                                                       999 non-null object\ndtypes: int64(1), object(64)\nmemory usage: 537.3+ KB\n"
     ]
    }
   ],
   "source": [
    "import pandas as pd \n",
    "import numpy as np\n",
    "\n",
    "data =pd.read_csv(\"./datasets/thanksgiving.csv\", encoding='latin-1')\n",
    "data.info()"
   ]
  },
  {
   "cell_type": "code",
   "execution_count": 40,
   "metadata": {},
   "outputs": [
    {
     "output_type": "execute_result",
     "data": {
      "text/plain": [
       "Yes    980\n",
       "No      78\n",
       "Name: Do you celebrate Thanksgiving?, dtype: int64"
      ]
     },
     "metadata": {},
     "execution_count": 40
    }
   ],
   "source": [
    " # Return value counts per category. \n",
    "data['Do you celebrate Thanksgiving?'].value_counts()"
   ]
  },
  {
   "cell_type": "code",
   "execution_count": 42,
   "metadata": {},
   "outputs": [
    {
     "output_type": "execute_result",
     "data": {
      "text/plain": [
       "(980, 65)"
      ]
     },
     "metadata": {},
     "execution_count": 42
    }
   ],
   "source": [
    "# We keep only people who celebrate thanksgiving \n",
    "data = data[data['Do you celebrate Thanksgiving?'] == 'Yes']\n",
    "data.shape"
   ]
  },
  {
   "cell_type": "code",
   "execution_count": 44,
   "metadata": {},
   "outputs": [
    {
     "output_type": "execute_result",
     "data": {
      "text/plain": [
       "Turkey                    859\n",
       "Other (please specify)     35\n",
       "Ham/Pork                   29\n",
       "Tofurkey                   20\n",
       "Chicken                    12\n",
       "Roast beef                 11\n",
       "I don't know                5\n",
       "Turducken                   3\n",
       "Name: What is typically the main dish at your Thanksgiving dinner?, dtype: int64"
      ]
     },
     "metadata": {},
     "execution_count": 44
    }
   ],
   "source": [
    "data['What is typically the main dish at your Thanksgiving dinner?'].value_counts()"
   ]
  },
  {
   "cell_type": "code",
   "execution_count": 51,
   "metadata": {},
   "outputs": [
    {
     "output_type": "execute_result",
     "data": {
      "text/plain": [
       "Yes    892\n",
       "No      82\n",
       "Name: Do you typically have gravy?, dtype: int64"
      ]
     },
     "metadata": {},
     "execution_count": 51
    }
   ],
   "source": [
    "data['Do you typically have gravy?'].value_counts()"
   ]
  },
  {
   "cell_type": "code",
   "execution_count": 60,
   "metadata": {},
   "outputs": [
    {
     "output_type": "execute_result",
     "data": {
      "text/plain": [
       "Yes    12\n",
       "No      8\n",
       "Name: Do you typically have gravy?, dtype: int64"
      ]
     },
     "metadata": {},
     "execution_count": 60
    }
   ],
   "source": [
    "tofurkey = data[data['What is typically the main dish at your Thanksgiving dinner?'] == 'Tofurkey']\n",
    "tofurkey['Do you typically have gravy?'].value_counts()\n",
    "#type(tofurkey)"
   ]
  },
  {
   "cell_type": "code",
   "execution_count": 73,
   "metadata": {},
   "outputs": [
    {
     "output_type": "execute_result",
     "data": {
      "text/plain": [
       "False    876\n",
       "True     182\n",
       "dtype: int64"
      ]
     },
     "metadata": {},
     "execution_count": 73
    }
   ],
   "source": [
    "apple_isnull = data['Which type of pie is typically served at your Thanksgiving dinner? Please select all that apply. - Apple'].isnull()\n",
    "pumpkin_isnull = data['Which type of pie is typically served at your Thanksgiving dinner? Please select all that apply. - Pumpkin'].isnull()\n",
    "pecan_isnull = data['Which type of pie is typically served at your Thanksgiving dinner? Please select all that apply. - Pecan'].isnull()\n",
    "pies = apple_isnull & pecan_isnull & pumpkin_isnull\n",
    "pies.value_counts()"
   ]
  },
  {
   "cell_type": "code",
   "execution_count": 136,
   "metadata": {},
   "outputs": [
    {
     "output_type": "execute_result",
     "data": {
      "text/plain": [
       "count    1025.000000\n",
       "mean       39.383415\n",
       "std        15.398493\n",
       "min        18.000000\n",
       "25%        30.000000\n",
       "50%        45.000000\n",
       "75%        60.000000\n",
       "max        60.000000\n",
       "Name: int_age, dtype: float64"
      ]
     },
     "metadata": {},
     "execution_count": 136
    }
   ],
   "source": [
    "def convert_age(str_age): \n",
    "    if pd.isnull(str_age): \n",
    "        return None\n",
    "    else: \n",
    "        age = str_age.split(' ')[0]\n",
    "        age = age.replace('+','')\n",
    "        return int(age)\n",
    "data['int_age'] = data['Age'].apply(convert_age)\n",
    "data['int_age'].describe()"
   ]
  },
  {
   "cell_type": "code",
   "execution_count": 138,
   "metadata": {},
   "outputs": [
    {
     "output_type": "execute_result",
     "data": {
      "text/plain": [
       "count       889.000000\n",
       "mean      74077.615298\n",
       "std       59360.742902\n",
       "min           0.000000\n",
       "25%       25000.000000\n",
       "50%       50000.000000\n",
       "75%      100000.000000\n",
       "max      200000.000000\n",
       "Name: int_income, dtype: float64"
      ]
     },
     "metadata": {},
     "execution_count": 138
    }
   ],
   "source": [
    "def convert_salary(str_salary): \n",
    "    if pd.isnull(str_salary):\n",
    "        return None\n",
    "    else: \n",
    "        salary = str_salary.split(' ')[0]\n",
    "        if salary == 'Prefer':\n",
    "            return None\n",
    "        else:\n",
    "            salary = salary.replace('$', '')\n",
    "            salary = salary.replace(',', '')\n",
    "            return int(salary)\n",
    "data['int_income'] = data['How much total combined money did all members of your HOUSEHOLD earn last year?'].apply(convert_salary)\n",
    "data['int_income'].describe()"
   ]
  },
  {
   "cell_type": "code",
   "execution_count": 150,
   "metadata": {},
   "outputs": [
    {
     "output_type": "execute_result",
     "data": {
      "text/plain": [
       "Thanksgiving is happening at my home--I won't travel at all                         281\n",
       "Thanksgiving is local--it will take place in the town I live in                     203\n",
       "Thanksgiving is out of town but not too far--it's a drive of a few hours or less    150\n",
       "Thanksgiving is out of town and far away--I have to drive several hours or fly       55\n",
       "Name: How far will you travel for Thanksgiving?, dtype: int64"
      ]
     },
     "metadata": {},
     "execution_count": 150
    }
   ],
   "source": [
    "less_income = data['int_income'] < 150000\n",
    "data['How far will you travel for Thanksgiving?'][less_income].value_counts()"
   ]
  },
  {
   "cell_type": "code",
   "execution_count": 153,
   "metadata": {},
   "outputs": [
    {
     "output_type": "execute_result",
     "data": {
      "text/plain": [
       "Thanksgiving is happening at my home--I won't travel at all                         49\n",
       "Thanksgiving is local--it will take place in the town I live in                     25\n",
       "Thanksgiving is out of town but not too far--it's a drive of a few hours or less    16\n",
       "Thanksgiving is out of town and far away--I have to drive several hours or fly      12\n",
       "Name: How far will you travel for Thanksgiving?, dtype: int64"
      ]
     },
     "metadata": {},
     "execution_count": 153
    }
   ],
   "source": [
    "more_income = data['int_income'] > 150000\n",
    "data['How far will you travel for Thanksgiving?'][more_income].value_counts()"
   ]
  },
  {
   "cell_type": "code",
   "execution_count": 157,
   "metadata": {},
   "outputs": [
    {
     "output_type": "execute_result",
     "data": {
      "text/plain": [
       "Have you ever attended a \"Friendsgiving?\"                  No        Yes\n",
       "Have you ever tried to meet up with hometown fr...                      \n",
       "No                                                  42.283702  37.010526\n",
       "Yes                                                 41.475410  33.976744"
      ],
      "text/html": "<div>\n<style scoped>\n    .dataframe tbody tr th:only-of-type {\n        vertical-align: middle;\n    }\n\n    .dataframe tbody tr th {\n        vertical-align: top;\n    }\n\n    .dataframe thead th {\n        text-align: right;\n    }\n</style>\n<table border=\"1\" class=\"dataframe\">\n  <thead>\n    <tr style=\"text-align: right;\">\n      <th>Have you ever attended a \"Friendsgiving?\"</th>\n      <th>No</th>\n      <th>Yes</th>\n    </tr>\n    <tr>\n      <th>Have you ever tried to meet up with hometown friends on Thanksgiving night?</th>\n      <th></th>\n      <th></th>\n    </tr>\n  </thead>\n  <tbody>\n    <tr>\n      <th>No</th>\n      <td>42.283702</td>\n      <td>37.010526</td>\n    </tr>\n    <tr>\n      <th>Yes</th>\n      <td>41.475410</td>\n      <td>33.976744</td>\n    </tr>\n  </tbody>\n</table>\n</div>"
     },
     "metadata": {},
     "execution_count": 157
    }
   ],
   "source": [
    "data.pivot_table(index='Have you ever tried to meet up with hometown friends on Thanksgiving night?', values= 'int_age', columns= 'Have you ever attended a \"Friendsgiving?\"')"
   ]
  },
  {
   "cell_type": "code",
   "execution_count": 159,
   "metadata": {},
   "outputs": [
    {
     "output_type": "execute_result",
     "data": {
      "text/plain": [
       "Have you ever attended a \"Friendsgiving?\"                     No           Yes\n",
       "Have you ever tried to meet up with hometown fr...                            \n",
       "No                                                  78914.549654  72894.736842\n",
       "Yes                                                 78750.000000  66019.736842"
      ],
      "text/html": "<div>\n<style scoped>\n    .dataframe tbody tr th:only-of-type {\n        vertical-align: middle;\n    }\n\n    .dataframe tbody tr th {\n        vertical-align: top;\n    }\n\n    .dataframe thead th {\n        text-align: right;\n    }\n</style>\n<table border=\"1\" class=\"dataframe\">\n  <thead>\n    <tr style=\"text-align: right;\">\n      <th>Have you ever attended a \"Friendsgiving?\"</th>\n      <th>No</th>\n      <th>Yes</th>\n    </tr>\n    <tr>\n      <th>Have you ever tried to meet up with hometown friends on Thanksgiving night?</th>\n      <th></th>\n      <th></th>\n    </tr>\n  </thead>\n  <tbody>\n    <tr>\n      <th>No</th>\n      <td>78914.549654</td>\n      <td>72894.736842</td>\n    </tr>\n    <tr>\n      <th>Yes</th>\n      <td>78750.000000</td>\n      <td>66019.736842</td>\n    </tr>\n  </tbody>\n</table>\n</div>"
     },
     "metadata": {},
     "execution_count": 159
    }
   ],
   "source": [
    "data.pivot_table(index='Have you ever tried to meet up with hometown friends on Thanksgiving night?', values= 'int_income', columns= 'Have you ever attended a \"Friendsgiving?\"')"
   ]
  }
 ]
}