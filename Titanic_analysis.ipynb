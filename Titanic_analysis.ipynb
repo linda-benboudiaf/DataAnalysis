{
 "cells": [
  {
   "cell_type": "markdown",
   "metadata": {},
   "source": [
    "### Problème avec des problèmes manquantes  "
   ]
  },
  {
   "cell_type": "code",
   "execution_count": 18,
   "metadata": {},
   "outputs": [
    {
     "name": "stdout",
     "output_type": "stream",
     "text": [
      "264\n"
     ]
    }
   ],
   "source": [
    "import pandas as pd \n",
    "import numpy as np\n",
    "\n",
    "titanic_survival = pd.read_csv('./datasets/titanic_survival.csv')\n",
    "#titanic_survival.info()\n",
    "#Nombre de valeur null de la colonne 'Age'\n",
    "age_null = titanic_survival['age'][titanic_survival['age'].isnull()]\n",
    "print(len(age_null))\n",
    "age_is_null = pd.isnull(titanic_survival['age'])\n",
    "good_age = titanic_survival['age'][age_is_null == False] \n",
    "mean_age = sum(good_age) / len(good_age)\n",
    "#mean_age\n",
    "#titanic_survival.head()"
   ]
  },
  {
   "cell_type": "markdown",
   "metadata": {},
   "source": [
    "### Calculer la moyenne"
   ]
  },
  {
   "cell_type": "code",
   "execution_count": 20,
   "metadata": {},
   "outputs": [
    {
     "name": "stdout",
     "output_type": "stream",
     "text": [
      "33.29547928134557\n"
     ]
    },
    {
     "data": {
      "text/plain": [
       "87.50899164086688"
      ]
     },
     "execution_count": 20,
     "metadata": {},
     "output_type": "execute_result"
    }
   ],
   "source": [
    "mean_fare = titanic_survival['fare'].mean()\n",
    "print(mean_fare)\n",
    "titanic_survival['fare'][titanic_survival['pclass']==1].mean()"
   ]
  },
  {
   "cell_type": "markdown",
   "metadata": {},
   "source": [
    "### Calcule de statistique "
   ]
  },
  {
   "cell_type": "code",
   "execution_count": 21,
   "metadata": {},
   "outputs": [
    {
     "name": "stdout",
     "output_type": "stream",
     "text": [
      "{1: 87.50899164086688, 2: 21.179196389891697, 3: 13.302888700564973}\n"
     ]
    },
    {
     "data": {
      "text/html": [
       "<div>\n",
       "<style scoped>\n",
       "    .dataframe tbody tr th:only-of-type {\n",
       "        vertical-align: middle;\n",
       "    }\n",
       "\n",
       "    .dataframe tbody tr th {\n",
       "        vertical-align: top;\n",
       "    }\n",
       "\n",
       "    .dataframe thead th {\n",
       "        text-align: right;\n",
       "    }\n",
       "</style>\n",
       "<table border=\"1\" class=\"dataframe\">\n",
       "  <thead>\n",
       "    <tr style=\"text-align: right;\">\n",
       "      <th></th>\n",
       "      <th>fare</th>\n",
       "      <th>survived</th>\n",
       "    </tr>\n",
       "    <tr>\n",
       "      <th>embarked</th>\n",
       "      <th></th>\n",
       "      <th></th>\n",
       "    </tr>\n",
       "  </thead>\n",
       "  <tbody>\n",
       "    <tr>\n",
       "      <th>C</th>\n",
       "      <td>16830.7922</td>\n",
       "      <td>150.0</td>\n",
       "    </tr>\n",
       "    <tr>\n",
       "      <th>Q</th>\n",
       "      <td>1526.3085</td>\n",
       "      <td>44.0</td>\n",
       "    </tr>\n",
       "    <tr>\n",
       "      <th>S</th>\n",
       "      <td>25033.3862</td>\n",
       "      <td>304.0</td>\n",
       "    </tr>\n",
       "  </tbody>\n",
       "</table>\n",
       "</div>"
      ],
      "text/plain": [
       "                fare  survived\n",
       "embarked                      \n",
       "C         16830.7922     150.0\n",
       "Q          1526.3085      44.0\n",
       "S         25033.3862     304.0"
      ]
     },
     "execution_count": 21,
     "metadata": {},
     "output_type": "execute_result"
    }
   ],
   "source": [
    "fares_by_class = {}\n",
    "passenger_classes= [1,2,3]\n",
    "for pclass in passenger_classes: \n",
    "    fares_by_class[pclass] = titanic_survival['fare'][titanic_survival['pclass']==pclass].mean()\n",
    "print(fares_by_class)\n",
    "passenger_age = titanic_survival.pivot_table(index= 'pclass', values='age')\n",
    "#print(passenger_age)\n",
    "passenger_survived = titanic_survival.pivot_table(index= 'pclass', values='survived')\n",
    "#print(passenger_survived)\n",
    "port_stat = titanic_survival.pivot_table(index= 'embarked', values=['fare', 'survived'], aggfunc= np.sum)\n",
    "port_stat"
   ]
  },
  {
   "cell_type": "markdown",
   "metadata": {},
   "source": [
    "### Eliminer les valeurs manquantes dans une matrice"
   ]
  },
  {
   "cell_type": "code",
   "execution_count": 22,
   "metadata": {},
   "outputs": [
    {
     "name": "stdout",
     "output_type": "stream",
     "text": [
      "(1046, 14)\n",
      "264\n"
     ]
    }
   ],
   "source": [
    "new_df = titanic_survival.dropna(axis=0, subset=['age','sex'])\n",
    "print(new_df.shape)\n",
    "titanic_survival.shape\n",
    "nb_deleted_rows = titanic_survival.shape[0] - new_df.shape[0]\n",
    "print(nb_deleted_rows)"
   ]
  },
  {
   "cell_type": "markdown",
   "metadata": {},
   "source": [
    "## Différence entre loc et iloc"
   ]
  },
  {
   "cell_type": "code",
   "execution_count": 23,
   "metadata": {},
   "outputs": [
    {
     "name": "stdout",
     "output_type": "stream",
     "text": [
      "29.0\n",
      "0.0\n",
      "   pclass  survived                                             name\n",
      "0     1.0       1.0                    Allen, Miss. Elisabeth Walton\n",
      "1     1.0       1.0                   Allison, Master. Hudson Trevor\n",
      "2     1.0       0.0                     Allison, Miss. Helen Loraine\n",
      "3     1.0       0.0             Allison, Mr. Hudson Joshua Creighton\n",
      "4     1.0       0.0  Allison, Mrs. Hudson J C (Bessie Waldo Daniels)\n"
     ]
    }
   ],
   "source": [
    "# Application sur les lignes. \n",
    "first_ten_rows= new_df.iloc[0:10]\n",
    "row_position_fifth = new_df.iloc[4]\n",
    "row_index_25 = new_df.loc[25]\n",
    "\n",
    "# Application sur les colonnes.\n",
    "row_index_1100_age = new_df.loc[1100,'age']\n",
    "print(row_index_1100_age)\n",
    "row_index_25_survived = new_df.loc[25,'survived']\n",
    "print(row_index_25_survived)\n",
    "five_rows_three_cols = new_df.iloc[0:5,0:3]\n",
    "print(five_rows_three_cols)"
   ]
  },
  {
   "cell_type": "markdown",
   "metadata": {},
   "source": [
    "### Réindexer les lignes d'un dataframe "
   ]
  },
  {
   "cell_type": "code",
   "execution_count": 24,
   "metadata": {},
   "outputs": [
    {
     "name": "stdout",
     "output_type": "stream",
     "text": [
      "   pclass  survived                                             name\n",
      "0     1.0       1.0                    Allen, Miss. Elisabeth Walton\n",
      "1     1.0       1.0                   Allison, Master. Hudson Trevor\n",
      "2     1.0       0.0                     Allison, Miss. Helen Loraine\n",
      "3     1.0       0.0             Allison, Mr. Hudson Joshua Creighton\n",
      "4     1.0       0.0  Allison, Mrs. Hudson J C (Bessie Waldo Daniels)\n"
     ]
    }
   ],
   "source": [
    "titanic_reindexed = new_df.reset_index(drop=True)\n",
    "print(titanic_reindexed.iloc[0:5, 0:3])"
   ]
  },
  {
   "cell_type": "markdown",
   "metadata": {},
   "source": [
    "### Application de méthode sur Dataframe"
   ]
  },
  {
   "cell_type": "code",
   "execution_count": 25,
   "metadata": {},
   "outputs": [],
   "source": [
    "def count_nan(columns):\n",
    "    item_null = columns[pd.isnull(columns)]\n",
    "    count = len(item_null)\n",
    "    return count\n",
    "\n",
    "column_null_count = titanic_survival.apply(count_nan)\n",
    "#print(column_null_count) \n",
    "\n",
    "def label_age(row):\n",
    "    age = row['age']\n",
    "    if pd.isnull(age):\n",
    "        return 'Unknown'\n",
    "    elif age < 18 : \n",
    "        return 'Minor'\n",
    "    else:\n",
    "        return 'Adult'\n",
    "    \n",
    "age_labels = titanic_survival.apply(label_age, axis=1)\n",
    "#print(age_labels)"
   ]
  },
  {
   "cell_type": "code",
   "execution_count": 26,
   "metadata": {},
   "outputs": [
    {
     "name": "stdout",
     "output_type": "stream",
     "text": [
      "           survived\n",
      "age_label          \n",
      "Adult      0.387892\n",
      "Minor      0.525974\n",
      "Unknown    0.277567\n"
     ]
    }
   ],
   "source": [
    "titanic_survival['age_label'] = age_labels\n",
    "age_group_survival = titanic_survival.pivot_table(index= 'age_label', values='survived', aggfunc=np.mean)\n",
    "print(age_group_survival)"
   ]
  }
 ],
 "metadata": {
  "kernelspec": {
   "display_name": "Python 3",
   "language": "python",
   "name": "python3"
  },
  "language_info": {
   "codemirror_mode": {
    "name": "ipython",
    "version": 3
   },
   "file_extension": ".py",
   "mimetype": "text/x-python",
   "name": "python",
   "nbconvert_exporter": "python",
   "pygments_lexer": "ipython3",
   "version": "3.5.2"
  }
 },
 "nbformat": 4,
 "nbformat_minor": 2
}
